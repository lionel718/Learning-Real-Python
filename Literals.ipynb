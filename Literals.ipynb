{
 "cells": [
  {
   "cell_type": "markdown",
   "metadata": {},
   "source": [
    "# Theory: Literals\n",
    "## §1. Introduction\n",
    "In almost any program or data analysis script, you have to operate with constant values called literals.\n",
    "\n",
    "In this topic, we'll discuss three basic types of literals: numeric, string, and boolean."
   ]
  },
  {
   "cell_type": "markdown",
   "metadata": {},
   "source": [
    "## §2. String literals\n",
    "A string constant in SQL is a sequence of characters surrounded by single (') or double (\") for example, 'Hyperskill', 'Hello world!', and \"SQL (Structured Query Language)\". To include a single-quote character within a string literal wrapped in single quotes, type two adjacent single quotes, for example, 'Jessie''s birthday'. Alternatively, wrap the literal in double quotes so that single quote will be treated as a regular symbol. For example, \"Sophie's choice\"."
   ]
  },
  {
   "cell_type": "markdown",
   "metadata": {},
   "source": [
    "## §3. Numeric literals\n",
    "Numeric literals can be either positive or negative numbers specified as integer (for example, 1, +9000, -256), decimal (for example, 2.3, +876.234, -1024.0), or real values in exponential notation (for example, 0.4e3, +7.192834e+10, -4.0e-5). If you do not specify the sign, then a positive number is assumed by default.\n",
    "\n",
    "Numeric literals may be INTEGER, REAL, and DECIMAL; the data management system automatically defines its type based on the context. For example, if you specify numeric value without decimal point that fits INTEGER range of values, the system will treat it as INTEGER, and otherwise as DECIMAL. Numeric values specified in exponential notation are treated as REAL data.\n",
    "\n",
    "You can directly specify the type of a literal using the CAST(value AS type) function. Instead of placeholders value and type, you can use your literal and type, for example:"
   ]
  },
  {
   "cell_type": "code",
   "execution_count": null,
   "metadata": {
    "scrolled": true
   },
   "outputs": [],
   "source": [
    "SELECT\n",
    "    CAST(1 AS DECIMAL(20,3));"
   ]
  },
  {
   "cell_type": "markdown",
   "metadata": {},
   "source": [
    "interprets numeric value 1 as DECIMAL(20,3). Of course, you can specify only meaningful type casts: for instance, CAST(123.4 AS INTEGER) would cause an error."
   ]
  },
  {
   "cell_type": "markdown",
   "metadata": {},
   "source": [
    "## §4. Boolean literals\n",
    "Boolean literals are boolean logic truth values: TRUE (true) and FALSE (false). No matter how you specify the value (TRUE or true), these values are identical boolean literals (same applies to FALSE values)."
   ]
  },
  {
   "cell_type": "markdown",
   "metadata": {},
   "source": [
    "## §5. Hello, World\n",
    "Now we are ready to write a traditional \"Hello, World!\" program. This SQL code (actually, a single query) implements it:"
   ]
  },
  {
   "cell_type": "code",
   "execution_count": 5,
   "metadata": {},
   "outputs": [
    {
     "data": {
      "text/plain": [
       "<sqlite3.Cursor at 0x7fc989e7bb20>"
      ]
     },
     "execution_count": 5,
     "metadata": {},
     "output_type": "execute_result"
    }
   ],
   "source": [
    "import sqlite3\n",
    "conn = sqlite3.connect(\"test.db\")\n",
    "cursor = conn.cursor()\n",
    "cursor.execute(\"SELECT 'Hello, World!'\")"
   ]
  },
  {
   "cell_type": "markdown",
   "metadata": {},
   "source": [
    "The query evaluation result is the following (its actual representation may be different depending on the environment you run it):\n",
    "\n",
    "Hello, World!\n",
    "\n",
    "Actually, the query declaratively states that we want to select this string as a result. The statement consists of 3 parts: the keyword SELECT (case insensitive), the literal that we want to receive, and a semicolon that defines the end of the query.\n",
    "\n",
    "Summarizing, a simple SQL query that extracts any literal, whether it's a string, numeric, or boolean, looks as follows (you may replace literal with any correctly specified constant you want):"
   ]
  },
  {
   "cell_type": "code",
   "execution_count": null,
   "metadata": {},
   "outputs": [],
   "source": []
  }
 ],
 "metadata": {
  "kernelspec": {
   "display_name": "Python 3",
   "language": "python",
   "name": "python3"
  },
  "language_info": {
   "codemirror_mode": {
    "name": "ipython",
    "version": 3
   },
   "file_extension": ".py",
   "mimetype": "text/x-python",
   "name": "python",
   "nbconvert_exporter": "python",
   "pygments_lexer": "ipython3",
   "version": "3.6.8"
  }
 },
 "nbformat": 4,
 "nbformat_minor": 2
}
