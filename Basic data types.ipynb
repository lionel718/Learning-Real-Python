{
 "cells": [
  {
   "cell_type": "markdown",
   "metadata": {},
   "source": [
    "# Theory: Basic data types\n",
    "## §1. Introduction\n",
    "SQL is a language used for working with different types of data organized into a table.<br />\n",
    "SQL databases usually require that each column in a database table has a name and a data type.<br />\n",
    "ANSI standard and different database vendors defines quite a lot of data types. Today, we will consider a very basic subset of data types: INTEGGER, REAL, DECIMAL, VARCHAR, and BOOLEAN."
   ]
  },
  {
   "cell_type": "markdown",
   "metadata": {},
   "source": [
    "## §2. Interger\n",
    "Usually, database management systems support a range from -2147483648 to +2147483647, which is enough for the majority of business tasks."
   ]
  },
  {
   "cell_type": "markdown",
   "metadata": {},
   "source": [
    "## §3. Real\n",
    "Numeric data goes beyond interger values. For such real values, SQL has a special data type with an intuitive name REAL. This data type is often called FLOAT reflecting the way the numbers are stored internally: exponential form is utilized and thus decimal point may \"float\", that is, it can be placed anywhere relative to the significant digits of the number.<br />\n",
    "This numeric type is usually called inexact because some values are stored as approximations (for example, 0.1), so storing and retrieving a value might not always work as you'd expect. Thus, if you require exact storage and calculations (for example, for billing database), REAL numeric data is not your choice. However, REAL data is often found in systems that operate very small and very large real numbers and require fast processing time. For example, the distance between galaxies or the diameter of an atomic nucleus can be stored in one column of REAL type. In most systems, the REAL type has a scale range from 1e-37 to 1e+37 with a precision of at least 6 decimal digits; absolute accuracy for small numbers is higher than for larger ones."
   ]
  },
  {
   "cell_type": "markdown",
   "metadata": {},
   "source": [
    "## §4. Decimal\n",
    "SQL supports a special data type – DECIMAL (precision, scale).\n",
    "As you see, this type has two parameters: precision and scale. Scale defines the count of digits in the fractional part, to the right of the decimal point. Precision is the total count of digits in the number, that is, on both sides of the decimal point. Scale, as you may have concluded, cannot exceed precision.<br />\n",
    "The DECIMAL type is usually referenced as an accurate numeric type with unlimited precision and scale; however, there is a limit – up to 131072 digits before the decimal point and up to 16383 digits after the decimal point.\n",
    "One of the most important differences between DECIMAL and REAL types for applications is rounding rules. DECIMAL values round intuitively and predictably, for instance, rounding -0.5 will result in -1. Rounding rules for REAL data type may be less intuitive, and here rounding -0.5 will give us -0. However, arithmetic operations on REAL types are faster and values themselves occupy less storage space."
   ]
  },
  {
   "cell_type": "markdown",
   "metadata": {},
   "source": [
    "## §5. Text\n",
    "Of course, one may want to process something other than numeric data, and SQL supports a family of data types designed to represent text data. Let's consider one of them, quite a universal and basic one – VARCHAR(n).<br />\n",
    "This type represents a string of symbols of varying length not longer than n. For example, one can insert the strings \"apple\", \"plum\", and \"peach\" into a column with the type VARCHAR(5). The strings \"orange\" and \"banana\" will exceed the length restriction and the system will either truncate them or generate an error if one tries to insert such long values."
   ]
  },
  {
   "cell_type": "markdown",
   "metadata": {},
   "source": [
    "## §6. Boolean\n",
    "The Boolean type represents boolean logic (truth) values: either TRUE or FALSE."
   ]
  },
  {
   "cell_type": "markdown",
   "metadata": {},
   "source": [
    "## §7. Who defines types, and how?\n",
    "As a software engineer, you should know how to create a table and define the column types.<br />\n",
    "Let's consider an example of an SQL query that defines a table \"census\" with 5 columns: \"id\" of type INTEGER, \"name\" of type VARCHAR(20), \"birth_place_latitude\" of type REAL, \"year_income\" of type DECIMAL(20,3), and \"is_parent\" of type BOOLEAN."
   ]
  },
  {
   "cell_type": "code",
   "execution_count": 1,
   "metadata": {},
   "outputs": [
    {
     "ename": "SyntaxError",
     "evalue": "invalid syntax (<ipython-input-1-8bb276866441>, line 1)",
     "output_type": "error",
     "traceback": [
      "\u001b[0;36m  File \u001b[0;32m\"<ipython-input-1-8bb276866441>\"\u001b[0;36m, line \u001b[0;32m1\u001b[0m\n\u001b[0;31m    CREATE TABLE census (\u001b[0m\n\u001b[0m               ^\u001b[0m\n\u001b[0;31mSyntaxError\u001b[0m\u001b[0;31m:\u001b[0m invalid syntax\n"
     ]
    }
   ],
   "source": [
    "CREATE TABLE census (\n",
    "    id INTEGER,\n",
    "    name VARCHAR(20),\n",
    "    birth_place_latitude REAL,\n",
    "    year_income DECIMAL(20,3),\n",
    "    is_parent BOOLEAN\n",
    ");"
   ]
  },
  {
   "cell_type": "markdown",
   "metadata": {},
   "source": [
    "## §8. Conclusion\n",
    "Data may be very diverse, and SQL supports an extensive set of data types to represent this diversity. We have discussed a basic subset of data types just to start with, yet there is more to the topic: type casting, compound types, special types for numeric data, text, and timestamps, and so on."
   ]
  },
  {
   "cell_type": "code",
   "execution_count": null,
   "metadata": {},
   "outputs": [],
   "source": []
  }
 ],
 "metadata": {
  "kernelspec": {
   "display_name": "Python 3",
   "language": "python",
   "name": "python3"
  },
  "language_info": {
   "codemirror_mode": {
    "name": "ipython",
    "version": 3
   },
   "file_extension": ".py",
   "mimetype": "text/x-python",
   "name": "python",
   "nbconvert_exporter": "python",
   "pygments_lexer": "ipython3",
   "version": "3.6.8"
  }
 },
 "nbformat": 4,
 "nbformat_minor": 2
}
